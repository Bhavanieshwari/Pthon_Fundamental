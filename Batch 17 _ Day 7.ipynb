{
 "cells": [
  {
   "cell_type": "code",
   "execution_count": null,
   "metadata": {},
   "outputs": [],
   "source": [
    "#Introduction to For Loops     "
   ]
  },
  {
   "cell_type": "code",
   "execution_count": null,
   "metadata": {},
   "outputs": [],
   "source": []
  },
  {
   "cell_type": "code",
   "execution_count": 1,
   "metadata": {},
   "outputs": [
    {
     "name": "stdout",
     "output_type": "stream",
     "text": [
      "['bhavani', 'devi', 'ramys', 'sriram', 'anu', 'sandeep']\n"
     ]
    }
   ],
   "source": [
    "my_students = ['bhavani','devi','ramys','sriram','anu','sandeep']\n",
    "print(my_students)"
   ]
  },
  {
   "cell_type": "code",
   "execution_count": 2,
   "metadata": {},
   "outputs": [
    {
     "data": {
      "text/plain": [
       "list"
      ]
     },
     "execution_count": 2,
     "metadata": {},
     "output_type": "execute_result"
    }
   ],
   "source": [
    "type(my_students)"
   ]
  },
  {
   "cell_type": "code",
   "execution_count": null,
   "metadata": {},
   "outputs": [],
   "source": []
  },
  {
   "cell_type": "code",
   "execution_count": null,
   "metadata": {},
   "outputs": [],
   "source": [
    "req:"
   ]
  },
  {
   "cell_type": "code",
   "execution_count": 3,
   "metadata": {},
   "outputs": [
    {
     "name": "stdout",
     "output_type": "stream",
     "text": [
      "keep up the good work,Bhavani\n"
     ]
    }
   ],
   "source": [
    "print(f\"keep up the good work,{my_students[0].title()}\")"
   ]
  },
  {
   "cell_type": "code",
   "execution_count": 4,
   "metadata": {},
   "outputs": [
    {
     "name": "stdout",
     "output_type": "stream",
     "text": [
      "keep up the good work,bhavani\n",
      "keep up the good work,devi\n",
      "keep up the good work,ramys\n",
      "keep up the good work,sriram\n",
      "keep up the good work,anu\n",
      "keep up the good work,sandeep\n"
     ]
    }
   ],
   "source": [
    "for students in my_students:\n",
    "    print(f\"keep up the good work,{students}\")"
   ]
  },
  {
   "cell_type": "code",
   "execution_count": null,
   "metadata": {},
   "outputs": [],
   "source": []
  },
  {
   "cell_type": "code",
   "execution_count": null,
   "metadata": {},
   "outputs": [],
   "source": [
    "General Syntax:\n",
    "    \n",
    "For tempvar in mainvar:\n",
    "    print(students(tempvar)) "
   ]
  },
  {
   "cell_type": "code",
   "execution_count": null,
   "metadata": {},
   "outputs": [],
   "source": [
    "students(tempvar) in my_students(mainvar):\n",
    "    print(students(tempvar))"
   ]
  },
  {
   "cell_type": "code",
   "execution_count": 6,
   "metadata": {},
   "outputs": [
    {
     "name": "stdout",
     "output_type": "stream",
     "text": [
      "bhavani\n",
      "devi\n",
      "ramys\n",
      "sriram\n",
      "anu\n",
      "sandeep\n"
     ]
    }
   ],
   "source": [
    "for students in my_students:\n",
    "    print(students)        # The gap before print is called INDENTATION (its a formula)"
   ]
  },
  {
   "cell_type": "code",
   "execution_count": null,
   "metadata": {},
   "outputs": [],
   "source": []
  },
  {
   "cell_type": "code",
   "execution_count": null,
   "metadata": {},
   "outputs": [],
   "source": [
    "Req: 1 ---> appriciate the students ----> Achieved\n",
    "    \n",
    "Req: 2 ---> I am looking forward to receive your practice file\n",
    "    \n",
    "Req: 3 ---> to give a thankyou note for everyone showing interest in learning pthon."
   ]
  },
  {
   "cell_type": "code",
   "execution_count": null,
   "metadata": {},
   "outputs": [],
   "source": []
  },
  {
   "cell_type": "code",
   "execution_count": 11,
   "metadata": {},
   "outputs": [
    {
     "name": "stdout",
     "output_type": "stream",
     "text": [
      "keep up the good work,Bhavani\n"
     ]
    }
   ],
   "source": [
    "print(f\"keep up the good work,{my_students[0].title()}\")"
   ]
  },
  {
   "cell_type": "code",
   "execution_count": null,
   "metadata": {},
   "outputs": [],
   "source": []
  },
  {
   "cell_type": "code",
   "execution_count": 7,
   "metadata": {},
   "outputs": [
    {
     "name": "stdout",
     "output_type": "stream",
     "text": [
      "keep up the good work,bhavani\n",
      "keep up the good work,devi\n",
      "keep up the good work,ramys\n",
      "keep up the good work,sriram\n",
      "keep up the good work,anu\n",
      "keep up the good work,sandeep\n"
     ]
    }
   ],
   "source": [
    "for students in my_students:\n",
    "    print(f\"keep up the good work,{students}\")"
   ]
  },
  {
   "cell_type": "code",
   "execution_count": null,
   "metadata": {},
   "outputs": [],
   "source": []
  },
  {
   "cell_type": "code",
   "execution_count": 8,
   "metadata": {},
   "outputs": [
    {
     "name": "stdout",
     "output_type": "stream",
     "text": [
      "keep up the good work,bhavani\n",
      "I am looking forward to receive your practice file for the day, bhavani\n",
      "keep up the good work,devi\n",
      "I am looking forward to receive your practice file for the day, devi\n",
      "keep up the good work,ramys\n",
      "I am looking forward to receive your practice file for the day, ramys\n",
      "keep up the good work,sriram\n",
      "I am looking forward to receive your practice file for the day, sriram\n",
      "keep up the good work,anu\n",
      "I am looking forward to receive your practice file for the day, anu\n",
      "keep up the good work,sandeep\n",
      "I am looking forward to receive your practice file for the day, sandeep\n"
     ]
    }
   ],
   "source": [
    "for students in my_students:\n",
    "    print(f\"keep up the good work,{students}\")\n",
    "    print(f\"I am looking forward to receive your practice file for the day, {students}\")"
   ]
  },
  {
   "cell_type": "code",
   "execution_count": null,
   "metadata": {},
   "outputs": [],
   "source": []
  },
  {
   "cell_type": "code",
   "execution_count": 9,
   "metadata": {},
   "outputs": [
    {
     "name": "stdout",
     "output_type": "stream",
     "text": [
      "keep up the good work,bhavani\n",
      "I am looking forward to receive your practice file for the day, bhavani.\n",
      "\n",
      "keep up the good work,devi\n",
      "I am looking forward to receive your practice file for the day, devi.\n",
      "\n",
      "keep up the good work,ramys\n",
      "I am looking forward to receive your practice file for the day, ramys.\n",
      "\n",
      "keep up the good work,sriram\n",
      "I am looking forward to receive your practice file for the day, sriram.\n",
      "\n",
      "keep up the good work,anu\n",
      "I am looking forward to receive your practice file for the day, anu.\n",
      "\n",
      "keep up the good work,sandeep\n",
      "I am looking forward to receive your practice file for the day, sandeep.\n",
      "\n"
     ]
    }
   ],
   "source": [
    "for students in my_students:\n",
    "    print(f\"keep up the good work,{students}\")\n",
    "    print(f\"I am looking forward to receive your practice file for the day, {students}.\\n\")"
   ]
  },
  {
   "cell_type": "code",
   "execution_count": null,
   "metadata": {},
   "outputs": [],
   "source": []
  },
  {
   "cell_type": "code",
   "execution_count": null,
   "metadata": {},
   "outputs": [],
   "source": [
    "introduction to if condition:"
   ]
  },
  {
   "cell_type": "code",
   "execution_count": null,
   "metadata": {},
   "outputs": [],
   "source": [
    "----> understanding conditional statements:"
   ]
  },
  {
   "cell_type": "code",
   "execution_count": null,
   "metadata": {},
   "outputs": [],
   "source": [
    "on occurance of an event, something would be happening--->\n",
    "\n",
    "event ---> is rain ---> raining ---> be at home\n",
    "\n",
    "no rain ---- go out."
   ]
  },
  {
   "cell_type": "code",
   "execution_count": null,
   "metadata": {},
   "outputs": [],
   "source": []
  },
  {
   "cell_type": "code",
   "execution_count": 17,
   "metadata": {},
   "outputs": [
    {
     "name": "stdout",
     "output_type": "stream",
     "text": [
      "['audi', 'bmw', 'tata', 'benz', 'tayota', 'honda']\n"
     ]
    }
   ],
   "source": [
    "cars = ['audi','bmw','tata','benz','tayota','honda']\n",
    "print(cars)"
   ]
  },
  {
   "cell_type": "code",
   "execution_count": null,
   "metadata": {},
   "outputs": [],
   "source": [
    "Req: if it is bmw ----> caps ----> BMW\n",
    "    \n",
    "    rest all others it want to print in ----> titlecase\n",
    "    \n",
    "    = ---> it is assignment\n",
    "    \n",
    "    ==  -----> it is used for equality testing"
   ]
  },
  {
   "cell_type": "code",
   "execution_count": 20,
   "metadata": {},
   "outputs": [
    {
     "name": "stdout",
     "output_type": "stream",
     "text": [
      "Audi\n",
      "BMW\n",
      "Tata\n",
      "Benz\n",
      "Tayota\n",
      "Honda\n"
     ]
    }
   ],
   "source": [
    "for car in cars:    \n",
    "    if car =='bmw':\n",
    "        print(car.upper())\n",
    "    else:\n",
    "        print(car.title())"
   ]
  },
  {
   "cell_type": "code",
   "execution_count": null,
   "metadata": {},
   "outputs": [],
   "source": []
  },
  {
   "cell_type": "code",
   "execution_count": null,
   "metadata": {},
   "outputs": [],
   "source": []
  },
  {
   "cell_type": "code",
   "execution_count": null,
   "metadata": {},
   "outputs": [],
   "source": []
  },
  {
   "cell_type": "code",
   "execution_count": null,
   "metadata": {},
   "outputs": [],
   "source": []
  },
  {
   "cell_type": "code",
   "execution_count": null,
   "metadata": {},
   "outputs": [],
   "source": []
  },
  {
   "cell_type": "code",
   "execution_count": null,
   "metadata": {},
   "outputs": [],
   "source": []
  },
  {
   "cell_type": "code",
   "execution_count": null,
   "metadata": {},
   "outputs": [],
   "source": []
  },
  {
   "cell_type": "code",
   "execution_count": null,
   "metadata": {},
   "outputs": [],
   "source": []
  },
  {
   "cell_type": "code",
   "execution_count": null,
   "metadata": {},
   "outputs": [],
   "source": []
  },
  {
   "cell_type": "code",
   "execution_count": null,
   "metadata": {},
   "outputs": [],
   "source": []
  },
  {
   "cell_type": "code",
   "execution_count": null,
   "metadata": {},
   "outputs": [],
   "source": []
  }
 ],
 "metadata": {
  "kernelspec": {
   "display_name": "Python 3",
   "language": "python",
   "name": "python3"
  },
  "language_info": {
   "codemirror_mode": {
    "name": "ipython",
    "version": 3
   },
   "file_extension": ".py",
   "mimetype": "text/x-python",
   "name": "python",
   "nbconvert_exporter": "python",
   "pygments_lexer": "ipython3",
   "version": "3.7.6"
  }
 },
 "nbformat": 4,
 "nbformat_minor": 4
}
